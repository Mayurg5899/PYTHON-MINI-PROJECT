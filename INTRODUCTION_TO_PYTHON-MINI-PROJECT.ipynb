{
 "cells": [
  {
   "cell_type": "raw",
   "id": "refined-football",
   "metadata": {},
   "source": [
    "ITP Mini Project\n",
    "Courier Management System\n",
    "For a seamless eCommerce shopping experience, it is essential to deliver the product promptly to the customer. And that’s where a professional courier service plays a vital role. 'FastTrack' courier company stores the relevant data of its clients and parcels in the form of dictionary. Create a dictionary for storing shipment information in key-value pairs. Shipment id is used as a key and list of other attributes like sender, receiver, start date, Delivery Date, Sender_location, Receiver_location, Delivery status, Shipping cost is associated with shipment id. Use the data shown in the table below.\n",
    " \n",
    "Use below table to refer to client’s data. Please note that a client can be a sender or receiver.\n",
    " \n"
   ]
  },
  {
   "cell_type": "markdown",
   "id": "educational-cargo",
   "metadata": {},
   "source": [
    "# Q1. Create a Dictionary of lists to store the information of shipments given in the table"
   ]
  },
  {
   "cell_type": "code",
   "execution_count": 1,
   "id": "tested-terrain",
   "metadata": {},
   "outputs": [
    {
     "data": {
      "text/plain": [
       "{101: [1, 3, '2020-03-14', '2020-03-25', 'Area1', 'Area6', 'Delivered', 198],\n",
       " 102: [4, 1, '2020-06-18', '2020-07-09', 'Area2', 'Area4', 'Delivered', 275],\n",
       " 103: [2, 3, '2020-12-01', None, 'Area5', 'Area1', 'In-Transit', 200],\n",
       " 104: [1, 5, '2020-06-23', '2020-06-25', 'Area1', 'Area4', 'Delivered', 314],\n",
       " 105: [3, 4, '2020-08-29', '2020-09-10', 'Area5', 'Area3', 'Delivered', 275],\n",
       " 106: [5, 2, '2020-06-28', None, 'Area3', 'Area1', 'In-Transit', 270]}"
      ]
     },
     "execution_count": 1,
     "metadata": {},
     "output_type": "execute_result"
    }
   ],
   "source": [
    "fastrack_shipment_data_dict={  \n",
    "    \n",
    "               101:[1, 3,\"2020-03-14\",\"2020-03-25\",\"Area1\",\"Area6\",\"Delivered\",198],\n",
    "                \n",
    "               102:[4, 1,\"2020-06-18\",\"2020-07-09\",\"Area2\",\"Area4\",\"Delivered\",275],\n",
    "                \n",
    "                103:[2, 3,\"2020-12-01\",None,  \"Area5\",\"Area1\",\"In-Transit\",200],\n",
    "    \n",
    "                104:[1, 5,\"2020-06-23\",\"2020-06-25\", \"Area1\",\"Area4\",\"Delivered\",314],\n",
    "    \n",
    "                105:[3, 4,\"2020-08-29\",\"2020-09-10\",\"Area5\",\"Area3\",\"Delivered\",275],\n",
    "    \n",
    "                106:[5, 2,\"2020-06-28\",None,  \"Area3\",\"Area1\",\"In-Transit\",270],\n",
    "       \n",
    "    \n",
    "}\n",
    "\n",
    "fastrack_shipment_data_dict"
   ]
  },
  {
   "cell_type": "markdown",
   "id": "communist-shade",
   "metadata": {},
   "source": [
    "# 2nd approach to store information of shipments in dict of dicts in place of dicts of list"
   ]
  },
  {
   "cell_type": "code",
   "execution_count": 2,
   "id": "rotary-territory",
   "metadata": {},
   "outputs": [
    {
     "data": {
      "text/plain": [
       "{101: {'Sender': 1,\n",
       "  'Receiver': 3,\n",
       "  'Start_date': '2020-03-14',\n",
       "  'Delivery_date': '2020-03-25',\n",
       "  'Sender_location': 'Area1',\n",
       "  'Receiver_location': 'Area6',\n",
       "  'Delivery_status': 'Delivered',\n",
       "  'Shipping_cost': 198},\n",
       " 102: {'Sender': 4,\n",
       "  'Receiver': 1,\n",
       "  'Start_date': '2020-06-18',\n",
       "  'Delivery_date': '2020-07-09',\n",
       "  'Sender_location': 'Area2',\n",
       "  'Receiver_location': 'Area4',\n",
       "  'Delivery_status': 'Delivered',\n",
       "  'Shipping_cost': 275},\n",
       " 103: {'Sender': 2,\n",
       "  'Receiver': 3,\n",
       "  'Start_date': '2020-12-01',\n",
       "  'Delivery_date': 'null',\n",
       "  'Sender_location': 'Area5',\n",
       "  'Receiver_location': 'Area1',\n",
       "  'Delivery_status': 'In-Transit',\n",
       "  'Shipping_cost': 200},\n",
       " 104: {'Sender': 1,\n",
       "  'Receiver': 5,\n",
       "  'Start_date': '2020-06-23',\n",
       "  'Delivery_date': '2020-06-25',\n",
       "  'Sender_location': 'Area1',\n",
       "  'Receiver_location': 'Area4',\n",
       "  'Delivery_status': 'Delivered',\n",
       "  'Shipping_cost': 314},\n",
       " 105: {'Sender': 3,\n",
       "  'Receiver': 4,\n",
       "  'Start_date': '2020-08-29',\n",
       "  'Delivery_date': '2020-09-10',\n",
       "  'Sender_location': 'Area5',\n",
       "  'Receiver_location': 'Area3',\n",
       "  'Delivery_status': 'Delivered',\n",
       "  'Shipping_cost': 275},\n",
       " 106: {'Sender': 5,\n",
       "  'Receiver': 2,\n",
       "  'Start_date': '2020-06-28',\n",
       "  'Delivery_date': 'null',\n",
       "  'Sender_location': 'Area3',\n",
       "  'Receiver_location': 'Area1',\n",
       "  'Delivery_status': 'In-Transit',\n",
       "  'Shipping_cost': 270}}"
      ]
     },
     "execution_count": 2,
     "metadata": {},
     "output_type": "execute_result"
    }
   ],
   "source": [
    "# i have also tried this approach to store dict\n",
    "#aprroach -2 (we can make the dict in this way to )\n",
    "\n",
    "fastrack_shipment_data_dict={  \n",
    "    \n",
    "               101:{\"Sender\":1,\"Receiver\":3,\"Start_date\":\"2020-03-14\",\"Delivery_date\":\"2020-03-25\",\n",
    "                    \"Sender_location\":\"Area1\",\"Receiver_location\":\"Area6\",\"Delivery_status\":\"Delivered\",\n",
    "                    \"Shipping_cost\":198},\n",
    "                \n",
    "               102:{\"Sender\":4, \"Receiver\":1,\"Start_date\":\"2020-06-18\",\"Delivery_date\":\"2020-07-09\",\n",
    "                   \"Sender_location\": \"Area2\",\"Receiver_location\":\"Area4\",\"Delivery_status\":\"Delivered\",\n",
    "                    \"Shipping_cost\":275},\n",
    "                \n",
    "                103:{\"Sender\":2,\"Receiver\": 3,\"Start_date\":\"2020-12-01\",\"Delivery_date\":\"null\",  \n",
    "                     \"Sender_location\":\"Area5\",\"Receiver_location\":\"Area1\",\"Delivery_status\":\"In-Transit\",\n",
    "                     \"Shipping_cost\":200},\n",
    "    \n",
    "                104:{\"Sender\":1, \"Receiver\":5,\"Start_date\":\"2020-06-23\",\"Delivery_date\":\"2020-06-25\", \n",
    "                     \"Sender_location\":\"Area1\",\"Receiver_location\":\"Area4\",\"Delivery_status\":\"Delivered\",\n",
    "                     \"Shipping_cost\":314},\n",
    "    \n",
    "                105:{\"Sender\":3,\"Receiver\": 4,\"Start_date\":\"2020-08-29\",\"Delivery_date\":\"2020-09-10\",\n",
    "                     \"Sender_location\":\"Area5\",\"Receiver_location\":\"Area3\",\"Delivery_status\":\"Delivered\",\n",
    "                     \"Shipping_cost\":275},\n",
    "    \n",
    "                106:{\"Sender\":5, \"Receiver\":2,\"Start_date\":\"2020-06-28\",\"Delivery_date\":\"null\", \n",
    "                     \"Sender_location\": \"Area3\",\"Receiver_location\":\"Area1\",\"Delivery_status\":\"In-Transit\",\n",
    "                     \"Shipping_cost\":270},\n",
    "       \n",
    "    \n",
    "}\n",
    "\n",
    "fastrack_shipment_data_dict"
   ]
  },
  {
   "cell_type": "markdown",
   "id": "champion-oakland",
   "metadata": {},
   "source": [
    "# Q2. Create a Dictionary of to store the information of clients given in the table."
   ]
  },
  {
   "cell_type": "code",
   "execution_count": 3,
   "id": "black-future",
   "metadata": {},
   "outputs": [
    {
     "data": {
      "text/plain": [
       "{1: 'Phillip', 2: 'Omega lll', 3: 'Ramya', 4: 'Romesh', 5: 'John'}"
      ]
     },
     "execution_count": 3,
     "metadata": {},
     "output_type": "execute_result"
    }
   ],
   "source": [
    "#approach -1\n",
    "\n",
    "fastrack_client_data_dicts={\n",
    "    \n",
    "    \n",
    "    \n",
    "     1:\"Phillip\",\n",
    "     2:\"Omega lll\",\n",
    "     3:\"Ramya\",\n",
    "     4:\"Romesh\",\n",
    "     5:\"John\",\n",
    "    \n",
    "    \n",
    "}\n",
    "\n",
    "fastrack_client_data_dicts       #1st approach"
   ]
  },
  {
   "cell_type": "code",
   "execution_count": 4,
   "id": "foreign-singles",
   "metadata": {},
   "outputs": [
    {
     "data": {
      "text/plain": [
       "{1: {'Client_Name': 'Phillip'},\n",
       " 2: {'Client_Name': 'Omega lll'},\n",
       " 3: {'Client_Name': 'Ramya'},\n",
       " 4: {'Client_Name': 'Romesh'},\n",
       " 5: {'Client_Name': 'John'}}"
      ]
     },
     "execution_count": 4,
     "metadata": {},
     "output_type": "execute_result"
    }
   ],
   "source": [
    "\n",
    "#approach -2 (we can make a dict in this way to )\n",
    "fastrack_client_data_dicts={\n",
    "    \n",
    "    \n",
    "    \n",
    "     1:{\"Client_Name\":\"Phillip\"},\n",
    "     2:{\"Client_Name\":\"Omega lll\"},\n",
    "     3:{\"Client_Name\":\"Ramya\"},\n",
    "     4:{\"Client_Name\":\"Romesh\"},\n",
    "     5:{\"Client_Name\":\"John\"},\n",
    "    \n",
    "    \n",
    "}\n",
    "\n",
    "fastrack_client_data_dicts            #2nd approach"
   ]
  },
  {
   "cell_type": "markdown",
   "id": "finished-solomon",
   "metadata": {},
   "source": [
    "# Q3. Write a code to replace client’s id with their respective name in shipment dictionary using a loop and dictionary comprehension"
   ]
  },
  {
   "cell_type": "code",
   "execution_count": 5,
   "id": "vital-concept",
   "metadata": {},
   "outputs": [
    {
     "name": "stdout",
     "output_type": "stream",
     "text": [
      "before fastrack_shimpent_data_dict:-->\n",
      "\n",
      "{101: {'Sender': 1, 'Receiver': 3, 'Start_date': '2020-03-14', 'Delivery_date': '2020-03-25', 'Sender_location': 'Area1', 'Receiver_location': 'Area6', 'Delivery_status': 'Delivered', 'Shipping_cost': 198}, 102: {'Sender': 4, 'Receiver': 1, 'Start_date': '2020-06-18', 'Delivery_date': '2020-07-09', 'Sender_location': 'Area2', 'Receiver_location': 'Area4', 'Delivery_status': 'Delivered', 'Shipping_cost': 275}, 103: {'Sender': 2, 'Receiver': 3, 'Start_date': '2020-12-01', 'Delivery_date': 'null', 'Sender_location': 'Area5', 'Receiver_location': 'Area1', 'Delivery_status': 'In-Transit', 'Shipping_cost': 200}, 104: {'Sender': 1, 'Receiver': 5, 'Start_date': '2020-06-23', 'Delivery_date': '2020-06-25', 'Sender_location': 'Area1', 'Receiver_location': 'Area4', 'Delivery_status': 'Delivered', 'Shipping_cost': 314}, 105: {'Sender': 3, 'Receiver': 4, 'Start_date': '2020-08-29', 'Delivery_date': '2020-09-10', 'Sender_location': 'Area5', 'Receiver_location': 'Area3', 'Delivery_status': 'Delivered', 'Shipping_cost': 275}, 106: {'Sender': 5, 'Receiver': 2, 'Start_date': '2020-06-28', 'Delivery_date': 'null', 'Sender_location': 'Area3', 'Receiver_location': 'Area1', 'Delivery_status': 'In-Transit', 'Shipping_cost': 270}}\n",
      "\n",
      "after replacing clients id with their respective name in shipment dictionary:-\n"
     ]
    },
    {
     "data": {
      "text/plain": [
       "{101: {'Sender': 'Phillip',\n",
       "  'Receiver': 'Ramya',\n",
       "  'Start_date': '2020-03-14',\n",
       "  'Delivery_date': '2020-03-25',\n",
       "  'Sender_location': 'Area1',\n",
       "  'Receiver_location': 'Area6',\n",
       "  'Delivery_status': 'Delivered',\n",
       "  'Shipping_cost': 198},\n",
       " 102: {'Sender': 'Romesh',\n",
       "  'Receiver': 'Phillip',\n",
       "  'Start_date': '2020-06-18',\n",
       "  'Delivery_date': '2020-07-09',\n",
       "  'Sender_location': 'Area2',\n",
       "  'Receiver_location': 'Area4',\n",
       "  'Delivery_status': 'Delivered',\n",
       "  'Shipping_cost': 275},\n",
       " 103: {'Sender': 'Omega lll',\n",
       "  'Receiver': 'Ramya',\n",
       "  'Start_date': '2020-12-01',\n",
       "  'Delivery_date': 'null',\n",
       "  'Sender_location': 'Area5',\n",
       "  'Receiver_location': 'Area1',\n",
       "  'Delivery_status': 'In-Transit',\n",
       "  'Shipping_cost': 200},\n",
       " 104: {'Sender': 'Phillip',\n",
       "  'Receiver': 'John',\n",
       "  'Start_date': '2020-06-23',\n",
       "  'Delivery_date': '2020-06-25',\n",
       "  'Sender_location': 'Area1',\n",
       "  'Receiver_location': 'Area4',\n",
       "  'Delivery_status': 'Delivered',\n",
       "  'Shipping_cost': 314},\n",
       " 105: {'Sender': 'Ramya',\n",
       "  'Receiver': 'Romesh',\n",
       "  'Start_date': '2020-08-29',\n",
       "  'Delivery_date': '2020-09-10',\n",
       "  'Sender_location': 'Area5',\n",
       "  'Receiver_location': 'Area3',\n",
       "  'Delivery_status': 'Delivered',\n",
       "  'Shipping_cost': 275},\n",
       " 106: {'Sender': 'John',\n",
       "  'Receiver': 'Omega lll',\n",
       "  'Start_date': '2020-06-28',\n",
       "  'Delivery_date': 'null',\n",
       "  'Sender_location': 'Area3',\n",
       "  'Receiver_location': 'Area1',\n",
       "  'Delivery_status': 'In-Transit',\n",
       "  'Shipping_cost': 270}}"
      ]
     },
     "execution_count": 5,
     "metadata": {},
     "output_type": "execute_result"
    }
   ],
   "source": [
    "# i have used fastrack_client_data_dicts from approach 2 of mine i.e like this one:\n",
    "# {1: {'Client_Name': 'Phillip'},\n",
    "#  2: {'Client_Name': 'Omega lll'},\n",
    "#  3: {'Client_Name': 'Ramya'},\n",
    "#  4: {'Client_Name': 'Romesh'},\n",
    "#  5: {'Client_Name': 'John'}}\n",
    "\n",
    "print(\"before fastrack_shimpent_data_dict:-->\\n\")\n",
    "print(fastrack_shipment_data_dict)\n",
    "for key in fastrack_shipment_data_dict :\n",
    "    \n",
    "    replacement_dict = {i:fastrack_client_data_dicts.get(fastrack_shipment_data_dict[key].get(i)).get(\"Client_Name\") \n",
    "                        for i in ['Sender','Receiver']}   \n",
    "                                                                                  \n",
    "    fastrack_shipment_data_dict[key].update(replacement_dict)   \n",
    "\n",
    "   \n",
    " \n",
    "print()\n",
    "print(\"after replacing clients id with their respective name in shipment dictionary:-\")\n",
    "fastrack_shipment_data_dict"
   ]
  },
  {
   "cell_type": "markdown",
   "id": "quick-miniature",
   "metadata": {},
   "source": [
    "# Q4. Print all shipment details that are sent by Phillip"
   ]
  },
  {
   "cell_type": "code",
   "execution_count": 6,
   "id": "fatty-wedding",
   "metadata": {},
   "outputs": [
    {
     "name": "stdout",
     "output_type": "stream",
     "text": [
      "information of shipemnts which are sent by phillip:--\t\n",
      "1.shipment id: 101-->\t\n",
      " {'Sender': 'Phillip', 'Receiver': 'Ramya', 'Start_date': '2020-03-14', 'Delivery_date': '2020-03-25', 'Sender_location': 'Area1', 'Receiver_location': 'Area6', 'Delivery_status': 'Delivered', 'Shipping_cost': 198}\n",
      "\n",
      "2.shipment id: 104-->\t\n",
      " {'Sender': 'Phillip', 'Receiver': 'John', 'Start_date': '2020-06-23', 'Delivery_date': '2020-06-25', 'Sender_location': 'Area1', 'Receiver_location': 'Area4', 'Delivery_status': 'Delivered', 'Shipping_cost': 314}\n",
      "\n"
     ]
    }
   ],
   "source": [
    "print(\"information of shipemnts which are sent by phillip:--\\t\")\n",
    "count=1\n",
    "for key in fastrack_shipment_data_dict:\n",
    "    if(fastrack_shipment_data_dict[key].get(\"Sender\")=='Phillip'):\n",
    "        print(f\"{count}.shipment id: {key}-->\\t\\n\",fastrack_shipment_data_dict[key])\n",
    "        print()\n",
    "        count+=1"
   ]
  },
  {
   "cell_type": "markdown",
   "id": "christian-maker",
   "metadata": {},
   "source": [
    "# Q5. Print all shipment details that are received by Ramya"
   ]
  },
  {
   "cell_type": "code",
   "execution_count": 7,
   "id": "valid-integer",
   "metadata": {
    "scrolled": true
   },
   "outputs": [
    {
     "name": "stdout",
     "output_type": "stream",
     "text": [
      "information of shipemnts which is received by Ramya:--\n",
      "1.shipment id: 101-->\t\n",
      " {'Sender': 'Phillip', 'Receiver': 'Ramya', 'Start_date': '2020-03-14', 'Delivery_date': '2020-03-25', 'Sender_location': 'Area1', 'Receiver_location': 'Area6', 'Delivery_status': 'Delivered', 'Shipping_cost': 198}\n",
      "\n",
      "2.shipment id: 103-->\t\n",
      " {'Sender': 'Omega lll', 'Receiver': 'Ramya', 'Start_date': '2020-12-01', 'Delivery_date': 'null', 'Sender_location': 'Area5', 'Receiver_location': 'Area1', 'Delivery_status': 'In-Transit', 'Shipping_cost': 200}\n",
      "\n"
     ]
    }
   ],
   "source": [
    "print(\"information of shipemnts which is received by Ramya:--\")\n",
    "count=1\n",
    "for key in fastrack_shipment_data_dict:\n",
    "    if(fastrack_shipment_data_dict[key].get(\"Receiver\")=='Ramya'):\n",
    "        print(f\"{count}.shipment id: {key}-->\\t\\n\",fastrack_shipment_data_dict[key])\n",
    "        print()\n",
    "        count+=1"
   ]
  },
  {
   "cell_type": "markdown",
   "id": "handmade-active",
   "metadata": {},
   "source": [
    "# Q6. Print all shipments which are in 'In-Transit' status"
   ]
  },
  {
   "cell_type": "code",
   "execution_count": 8,
   "id": "labeled-merit",
   "metadata": {},
   "outputs": [
    {
     "name": "stdout",
     "output_type": "stream",
     "text": [
      "information of shipments whose Delivery-status  is in 'In-Transit' status is---->:\n",
      "\n",
      "1.shipment id: 103-->\t\n",
      " {'Sender': 'Omega lll', 'Receiver': 'Ramya', 'Start_date': '2020-12-01', 'Delivery_date': 'null', 'Sender_location': 'Area5', 'Receiver_location': 'Area1', 'Delivery_status': 'In-Transit', 'Shipping_cost': 200}\n",
      "\n",
      "2.shipment id: 106-->\t\n",
      " {'Sender': 'John', 'Receiver': 'Omega lll', 'Start_date': '2020-06-28', 'Delivery_date': 'null', 'Sender_location': 'Area3', 'Receiver_location': 'Area1', 'Delivery_status': 'In-Transit', 'Shipping_cost': 270}\n",
      "\n"
     ]
    }
   ],
   "source": [
    "print(\"information of shipments whose Delivery-status  is in 'In-Transit' status is---->:\\n\")\n",
    "count=1\n",
    "for key in fastrack_shipment_data_dict:\n",
    "    if(fastrack_shipment_data_dict[key].get(\"Delivery_status\")=='In-Transit'):\n",
    "        print(f\"{count}.shipment id: {key}-->\\t\\n\",fastrack_shipment_data_dict[key])\n",
    "        print()\n",
    "        count+=1"
   ]
  },
  {
   "cell_type": "markdown",
   "id": "equipped-thermal",
   "metadata": {},
   "source": [
    "# Q7. Print all shipments which are delivered within 7 days of courier Start date"
   ]
  },
  {
   "cell_type": "code",
   "execution_count": 9,
   "id": "synthetic-aberdeen",
   "metadata": {},
   "outputs": [
    {
     "name": "stdout",
     "output_type": "stream",
     "text": [
      "information of shipments which are delivered within 7 days of courier start---->:\n",
      "\n",
      "1 . shipment-id: 104\n",
      "{'Sender': 'Phillip', 'Receiver': 'John', 'Start_date': '2020-06-23', 'Delivery_date': '2020-06-25', 'Sender_location': 'Area1', 'Receiver_location': 'Area4', 'Delivery_status': 'Delivered', 'Shipping_cost': 314}\n"
     ]
    }
   ],
   "source": [
    "import datetime\n",
    "print(\"information of shipments which are delivered within 7 days of courier start---->:\\n\")\n",
    "count=1\n",
    "for key in fastrack_shipment_data_dict:\n",
    "    try:\n",
    "        start_date=datetime.datetime.strptime(fastrack_shipment_data_dict[key].get(\"Start_date\"),'%Y-%m-%d')\n",
    "                                              \n",
    "        delivery_date=datetime.datetime.strptime(fastrack_shipment_data_dict[key].get(\"Delivery_date\"),'%Y-%m-%d')\n",
    "        \n",
    "        total_days=(delivery_date-start_date).days\n",
    "        \n",
    "        if(total_days<=7):\n",
    "            print(count,'.',\"shipment-id:\",key)\n",
    "            print(fastrack_shipment_data_dict[key])\n",
    "            count+=1\n",
    "    except Exception as e:   \n",
    "        pass"
   ]
  },
  {
   "cell_type": "markdown",
   "id": "fluid-express",
   "metadata": {},
   "source": [
    "# Q8. Print all shipments which are delivered after 15 days of courier start date or not yet been delivered."
   ]
  },
  {
   "cell_type": "code",
   "execution_count": 10,
   "id": "competent-avatar",
   "metadata": {},
   "outputs": [
    {
     "name": "stdout",
     "output_type": "stream",
     "text": [
      "information of shipments which are delivered after 15 days of courier start date or not yet been delivered---->:\n",
      "\n",
      "1 . shipment-id: 102 and no of days passed from start_date to delivery_date = 21\n",
      "{'Sender': 'Romesh', 'Receiver': 'Phillip', 'Start_date': '2020-06-18', 'Delivery_date': '2020-07-09', 'Sender_location': 'Area2', 'Receiver_location': 'Area4', 'Delivery_status': 'Delivered', 'Shipping_cost': 275} \n",
      "\n",
      "2 . shipment-id: 103  and this shipment is not yet been delivered \n",
      "{'Sender': 'Omega lll', 'Receiver': 'Ramya', 'Start_date': '2020-12-01', 'Delivery_date': 'null', 'Sender_location': 'Area5', 'Receiver_location': 'Area1', 'Delivery_status': 'In-Transit', 'Shipping_cost': 200} \n",
      "\n",
      "3 . shipment-id: 106  and this shipment is not yet been delivered \n",
      "{'Sender': 'John', 'Receiver': 'Omega lll', 'Start_date': '2020-06-28', 'Delivery_date': 'null', 'Sender_location': 'Area3', 'Receiver_location': 'Area1', 'Delivery_status': 'In-Transit', 'Shipping_cost': 270} \n",
      "\n"
     ]
    }
   ],
   "source": [
    "import datetime\n",
    "print(\"information of shipments which are delivered after 15 days of courier start date or not yet been delivered---->:\\n\")\n",
    "count=1\n",
    "for key in fastrack_shipment_data_dict:\n",
    "    try:\n",
    "        start_date=datetime.datetime.strptime(fastrack_shipment_data_dict[key].get(\"Start_date\"),'%Y-%m-%d')\n",
    "                                              \n",
    "        delivery_date=datetime.datetime.strptime(fastrack_shipment_data_dict[key].get(\"Delivery_date\"),'%Y-%m-%d')\n",
    "        \n",
    "        total_days=(delivery_date-start_date).days\n",
    "        \n",
    "        if(total_days>=15):\n",
    "            print(count,'.',\"shipment-id:\",key, 'and no of days passed from start_date to delivery_date =',total_days,)\n",
    "            print(fastrack_shipment_data_dict[key],'\\n')\n",
    "            count+=1\n",
    "    except Exception as e: \n",
    "        print(count,'.',\"shipment-id:\",key,' and this shipment is not yet been delivered ')\n",
    "        print(fastrack_shipment_data_dict[key],'\\n')\n",
    "        count+=1\n",
    "        pass\n",
    "\n",
    "        "
   ]
  },
  {
   "cell_type": "markdown",
   "id": "combined-judges",
   "metadata": {},
   "source": [
    "# Q 9. Write a function find_all_routes to display all possible routes from senders location to receivers location given in the dictionary for each shipment.¶"
   ]
  },
  {
   "cell_type": "code",
   "execution_count": 12,
   "id": "owned-context",
   "metadata": {},
   "outputs": [
    {
     "name": "stdout",
     "output_type": "stream",
     "text": [
      "enter no of vertices e.g in our case it is like-- 6:6\n",
      "enter total edges e.g in our case it is like --6:6\n",
      "Following are all different paths from Area1 to Area6 for shipment--id 101:\n",
      "1-->6\n",
      "Following are all different paths from Area2 to Area4 for shipment--id 102:\n",
      "2-->3-->4\n",
      "2-->4\n",
      "Following are all different paths from Area5 to Area1 for shipment--id 103:\n",
      "5-->4-->2-->1\n",
      "5-->4-->3-->2-->1\n",
      "Following are all different paths from Area1 to Area4 for shipment--id 104:\n",
      "1-->2-->3-->4\n",
      "1-->2-->4\n",
      "Following are all different paths from Area5 to Area3 for shipment--id 105:\n",
      "5-->4-->2-->3\n",
      "5-->4-->3\n",
      "Following are all different paths from Area3 to Area1 for shipment--id 106:\n",
      "3-->2-->1\n",
      "3-->4-->2-->1\n"
     ]
    }
   ],
   "source": [
    "def get_all_routes(s,d,visited,route):\n",
    "    \n",
    "    visited[s]=True\n",
    "    route.append(s)\n",
    "    if(s==d):\n",
    "        parse_route=route.copy()\n",
    "        parse_route=[f'{j}' for j in parse_route]\n",
    "        \n",
    "        print('-->'.join(parse_route))\n",
    "\n",
    "        \n",
    "    else:\n",
    "        for k in graph_nodes[s]:\n",
    "            if(visited[k]==False):\n",
    "                get_all_routes(k,d,visited,route)\n",
    "                \n",
    "    route.pop()\n",
    "    visited[s]=False\n",
    "\n",
    "def find_all_routes(s,d):\n",
    "    visited=[False]*(vertices+1)\n",
    "    \n",
    "    visited[0]=True\n",
    "    route=[]\n",
    "    get_all_routes(s,d,visited,route)\n",
    "\n",
    "\n",
    "\n",
    "\n",
    "vertices=int(input(\"enter no of vertices e.g in our case it is like-- 6:\"))  #enter 6 as vertices are 6 in our use case \n",
    "graph_nodes={key:[] for key in range(1,vertices+1)}        #adjancancy list nodes are starting from 1\n",
    "no_of_edges=int(input('enter total edges e.g in our case it is like --6:'))\n",
    "#edges=[input().split(',') for _ in range(no_of_edges)]\n",
    "edges=[[1,2],[1,6],[2,3],[2,4],[3,4],[4,5]]                #edges  or adjancancy list used to store information of edges  \n",
    "for i in edges:\n",
    "    i=list(map(int,i))                                      #used this for case of input edges from users\n",
    "    v1,v2=i\n",
    "    graph_nodes[v1].append(v2)\n",
    "    graph_nodes[v2].append(v1)                              # for undirected graph\n",
    "    \n",
    "\n",
    "for key in fastrack_shipment_data_dict:\n",
    "    src=int(fastrack_shipment_data_dict[key].get('Sender_location')[-1])\n",
    "    dest=int(fastrack_shipment_data_dict[key].get('Receiver_location')[-1])\n",
    "    print(\"Following are all different paths from Area%d to Area%d for shipment--id %d:\" %(src, dest,key)) \n",
    "    find_all_routes(src,dest)\n",
    "    \n"
   ]
  },
  {
   "cell_type": "code",
   "execution_count": null,
   "id": "textile-tooth",
   "metadata": {},
   "outputs": [],
   "source": []
  },
  {
   "cell_type": "code",
   "execution_count": null,
   "id": "crucial-fitness",
   "metadata": {},
   "outputs": [],
   "source": []
  },
  {
   "cell_type": "code",
   "execution_count": null,
   "id": "available-stroke",
   "metadata": {},
   "outputs": [],
   "source": []
  }
 ],
 "metadata": {
  "kernelspec": {
   "display_name": "Python 3",
   "language": "python",
   "name": "python3"
  },
  "language_info": {
   "codemirror_mode": {
    "name": "ipython",
    "version": 3
   },
   "file_extension": ".py",
   "mimetype": "text/x-python",
   "name": "python",
   "nbconvert_exporter": "python",
   "pygments_lexer": "ipython3",
   "version": "3.8.5"
  }
 },
 "nbformat": 4,
 "nbformat_minor": 5
}
